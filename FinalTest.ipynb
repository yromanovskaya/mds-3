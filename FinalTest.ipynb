{
 "cells": [
  {
   "cell_type": "code",
   "execution_count": 30,
   "metadata": {},
   "outputs": [],
   "source": [
    "import matplotlib.pyplot as plt\n",
    "import numpy as np\n",
    "import random\n",
    "import scipy.stats as sts\n",
    "\n",
    "from scipy.optimize import minimize\n",
    "%matplotlib inline"
   ]
  },
  {
   "cell_type": "markdown",
   "metadata": {},
   "source": [
    "### Задание 1"
   ]
  },
  {
   "cell_type": "markdown",
   "metadata": {},
   "source": [
    "Дана матрица рейтингов фильмов (строки - пользователи (10 человек), столбцы - фильмы (15 фильмов))"
   ]
  },
  {
   "cell_type": "code",
   "execution_count": 144,
   "metadata": {},
   "outputs": [],
   "source": [
    "raitings = np.array([[ 4,  4,  9,  4,  1,  6, 10,  7,  9,  6,  9,  2,  8,  6,  6],\n",
    "                     [ 9,  2,  5, 10,  7,  8, 10,  5,  6,  2,  1,  6,  8,  9,  7],\n",
    "                     [ 1,  6,  8,  8,  4,  9,  3,  8, 10,  5,  2,  6,  8,  1,  6],\n",
    "                     [ 6,  1,  9,  7,  7,  9,  2,  3,  5,  1,  6,  6,  3,  2,  7],\n",
    "                     [ 3,  7,  3,  5,  7,  9,  9,  6,  2,  9,  1,  2,  8, 10,  6],\n",
    "                     [ 8,  3,  7,  3,  8,  6,  1,  8,  8,  6,  1,  9,  4, 10,  1],\n",
    "                     [ 9,  8,  4,  8,  8, 10,  6,  1,  1,  2,  9,  5,  2,  7,  2],\n",
    "                     [ 4,  1,  6,  4,  3, 10,  4,  4,  2,  8,  7,  9,  3,  8,  3],\n",
    "                     [ 2,  7,  7,  6, 10,  6,  8,  9,  8,  6, 10,  1,  7, 10,  4],\n",
    "                     [ 5, 10,  8,  8,  9,  7,  2,  9,  9, 10,  8,  8,  8,  6, 10]])"
   ]
  },
  {
   "cell_type": "markdown",
   "metadata": {},
   "source": [
    "<b> a) </b> Необходимо найти наиболее похожего пользователя по косинусной метрике для каждого из (ответ: 10 пар вида (x, y), где y - наиболее похожий пользователь на пользователя x)."
   ]
  },
  {
   "cell_type": "code",
   "execution_count": 211,
   "metadata": {},
   "outputs": [],
   "source": [
    "def cosine( a, b ):\n",
    "    \"\"\"\n",
    "    Подсчет косинуса угла между векторами a, b по их координатам\n",
    "    \"\"\"\n",
    "    \n",
    "    # длины векторов\n",
    "    aLength = np.linalg.norm( a )\n",
    "    bLength = np.linalg.norm( b )\n",
    "    \n",
    "    return np.dot( a, b ) / ( aLength * bLength )    "
   ]
  },
  {
   "cell_type": "code",
   "execution_count": 266,
   "metadata": {},
   "outputs": [
    {
     "name": "stdout",
     "output_type": "stream",
     "text": [
      "[[ 4.  4.  9.  4.  1.  6. 10.  7.  9.  6.  9.  2.  8.  6.  6.]\n",
      " [ 9.  8.  4.  8.  8. 10.  6.  1.  1.  2.  9.  5.  2.  7.  2.]]\n",
      "[[ 9.  2.  5. 10.  7.  8. 10.  5.  6.  2.  1.  6.  8.  9.  7.]\n",
      " [ 4.  1.  6.  4.  3. 10.  4.  4.  2.  8.  7.  9.  3.  8.  3.]]\n",
      "[[ 1.  6.  8.  8.  4.  9.  3.  8. 10.  5.  2.  6.  8.  1.  6.]\n",
      " [ 9.  8.  4.  8.  8. 10.  6.  1.  1.  2.  9.  5.  2.  7.  2.]]\n",
      "[[ 6.  1.  9.  7.  7.  9.  2.  3.  5.  1.  6.  6.  3.  2.  7.]\n",
      " [ 3.  7.  3.  5.  7.  9.  9.  6.  2.  9.  1.  2.  8. 10.  6.]]\n",
      "[[ 3.  7.  3.  5.  7.  9.  9.  6.  2.  9.  1.  2.  8. 10.  6.]\n",
      " [ 6.  1.  9.  7.  7.  9.  2.  3.  5.  1.  6.  6.  3.  2.  7.]]\n",
      "[[ 8.  3.  7.  3.  8.  6.  1.  8.  8.  6.  1.  9.  4. 10.  1.]\n",
      " [ 9.  8.  4.  8.  8. 10.  6.  1.  1.  2.  9.  5.  2.  7.  2.]]\n",
      "[[ 9.  8.  4.  8.  8. 10.  6.  1.  1.  2.  9.  5.  2.  7.  2.]\n",
      " [ 1.  6.  8.  8.  4.  9.  3.  8. 10.  5.  2.  6.  8.  1.  6.]]\n",
      "[[ 4.  1.  6.  4.  3. 10.  4.  4.  2.  8.  7.  9.  3.  8.  3.]\n",
      " [ 1.  6.  8.  8.  4.  9.  3.  8. 10.  5.  2.  6.  8.  1.  6.]]\n",
      "[[ 2.  7.  7.  6. 10.  6.  8.  9.  8.  6. 10.  1.  7. 10.  4.]\n",
      " [ 6.  1.  9.  7.  7.  9.  2.  3.  5.  1.  6.  6.  3.  2.  7.]]\n",
      "[[ 5. 10.  8.  8.  9.  7.  2.  9.  9. 10.  8.  8.  8.  6. 10.]\n",
      " [ 9.  8.  4.  8.  8. 10.  6.  1.  1.  2.  9.  5.  2.  7.  2.]]\n"
     ]
    }
   ],
   "source": [
    "# составляем пары схожих пользователей\n",
    "for i in raitings:\n",
    "    similar = np.zeros((2,15))\n",
    "    similar[0] = i\n",
    "    cos = 0.99\n",
    "    for ii in raitings:\n",
    "        if cosine(i, ii) < cos:\n",
    "            similar[1] = ii\n",
    "            cos = cosine(i, ii)\n",
    "    print(similar)  "
   ]
  },
  {
   "cell_type": "markdown",
   "metadata": {},
   "source": [
    "<b> b) </b>Предположим, вы захотели сжать признаковые описания пользователя с 15 фильмов, до, скажем, 5-ти признаков, как вы это сделаете?"
   ]
  },
  {
   "cell_type": "markdown",
   "metadata": {},
   "source": [
    "Для выборок без учителя сжатие данных может быть произведено с помощью svd-разложения"
   ]
  },
  {
   "cell_type": "code",
   "execution_count": 273,
   "metadata": {},
   "outputs": [],
   "source": [
    "U, s, V = np.linalg.svd(raitings)\n",
    "S = np.zeros((raitings.shape[0], raitings.shape[1]))\n",
    "S[:raitings.shape[0], :raitings.shape[0]] = np.diag(s)\n",
    "n_component = 5\n",
    "S = S[:, :n_component]\n",
    "V = V[:n_component, :]\n",
    "# A = U.dot(S.dot(V))"
   ]
  },
  {
   "cell_type": "markdown",
   "metadata": {},
   "source": [
    "### Задание 2"
   ]
  },
  {
   "cell_type": "markdown",
   "metadata": {},
   "source": [
    "Вычислите производную $tg^2(sin(x) + cos(2x+3))$ в точке $x_0=1$ на python и на бумаге (просто подставить точку в производную и ничего не упрощать)."
   ]
  },
  {
   "cell_type": "code",
   "execution_count": 7,
   "metadata": {},
   "outputs": [
    {
     "data": {
      "text/plain": [
       "55.3859176464222"
      ]
     },
     "execution_count": 7,
     "metadata": {},
     "output_type": "execute_result"
    }
   ],
   "source": [
    "from scipy.misc import derivative\n",
    "def f(x):\n",
    "    x1 = np.sin(x) + np.cos(2*x + 3)\n",
    "    return (np.tan(x1))**2\n",
    "x0 = 1\n",
    "derivative(f, x0, dx=1e-6)"
   ]
  },
  {
   "cell_type": "markdown",
   "metadata": {},
   "source": [
    "### Задание 3"
   ]
  },
  {
   "cell_type": "markdown",
   "metadata": {},
   "source": [
    "Дана функция с неизвестными параметрами a и b, вам также известны значения функции fx в точках x. Найдите оптимальные параметры a, b, минимизирующие абсолютную ошибку <b>error</b>"
   ]
  },
  {
   "cell_type": "code",
   "execution_count": 65,
   "metadata": {},
   "outputs": [],
   "source": [
    "def f(x, a, b):\n",
    "    return np.e**a * np.sin(b*x) + x"
   ]
  },
  {
   "cell_type": "code",
   "execution_count": 66,
   "metadata": {},
   "outputs": [],
   "source": [
    "x = np.array([0.        , 0.26315789, 0.52631579, 0.78947368, 1.05263158,\n",
    "              1.31578947, 1.57894737, 1.84210526, 2.10526316, 2.36842105,\n",
    "              2.63157895, 2.89473684, 3.15789474, 3.42105263, 3.68421053,\n",
    "              3.94736842, 4.21052632, 4.47368421, 4.73684211, 5.        ])"
   ]
  },
  {
   "cell_type": "code",
   "execution_count": 67,
   "metadata": {},
   "outputs": [],
   "source": [
    "fx = np.array([  0.        , -12.01819092, -18.90968634, -17.68786571,\n",
    "                -8.7529108 ,   4.27524517,  16.06801336,  21.81250213,\n",
    "                19.22059845,   9.48411207,  -3.22273056, -13.48576488,\n",
    "               -16.91096359, -11.95866834,  -0.58630088,  12.56873816,\n",
    "                22.12489421,  24.20292139,  18.04522521,   6.33211092])"
   ]
  },
  {
   "cell_type": "code",
   "execution_count": 68,
   "metadata": {},
   "outputs": [
    {
     "data": {
      "image/png": "[encoded data removed]",
      "text/plain": [
       "<Figure size 432x288 with 1 Axes>"
      ]
     },
     "metadata": {
      "needs_background": "light"
     },
     "output_type": "display_data"
    }
   ],
   "source": [
    "plt.plot(x, fx)\n",
    "plt.show()"
   ]
  },
  {
   "cell_type": "code",
   "execution_count": 139,
   "metadata": {},
   "outputs": [],
   "source": [
    "def error(params):\n",
    "    return np.sum(np.abs(fx - f(x, params[0], params[1])))"
   ]
  },
  {
   "cell_type": "code",
   "execution_count": 140,
   "metadata": {},
   "outputs": [
    {
     "name": "stdout",
     "output_type": "stream",
     "text": [
      "Optimization terminated successfully.\n",
      "         Current function value: 0.000058\n",
      "         Iterations: 1735\n",
      "         Function evaluations: 2562\n"
     ]
    }
   ],
   "source": [
    "# подбираем начальные значения параметров (a, b) для использования метода minimize\n",
    "params1 = np.array([np.full(20, -2.), np.full(20, 1.)])\n",
    "res_error = minimize(error, params1, method='nelder-mead', options={'xtol': 1e-6, 'disp': True})"
   ]
  },
  {
   "cell_type": "code",
   "execution_count": 141,
   "metadata": {},
   "outputs": [
    {
     "data": {
      "text/plain": [
       " final_simplex: (array([[ 2.99999977, -2.49999999, -3.51666017, ...,  1.06804677,\n",
       "         1.01105254,  1.25850724],\n",
       "       [ 3.00000022, -2.49999997, -3.51666031, ...,  1.06804672,\n",
       "         1.01105247,  1.25850734],\n",
       "       [ 2.99999976, -2.49999998, -3.5166597 , ...,  1.06804686,\n",
       "         1.01105252,  1.25850723],\n",
       "       ...,\n",
       "       [ 2.99999953, -2.49999998, -3.51665998, ...,  1.06804673,\n",
       "         1.01105263,  1.25850716],\n",
       "       [ 2.99999953, -2.49999999, -3.51666059, ...,  1.06804677,\n",
       "         1.01105246,  1.25850723],\n",
       "       [ 2.9999996 , -2.50000008, -3.5166598 , ...,  1.06804669,\n",
       "         1.01105253,  1.2585072 ]]), array([5.77686626e-05, 5.79638334e-05, 5.87145590e-05, 5.87436285e-05,\n",
       "       5.90236185e-05, 5.93111692e-05, 5.98895803e-05, 6.04240904e-05,\n",
       "       6.04253971e-05, 6.10076526e-05, 6.15026133e-05, 6.16134175e-05,\n",
       "       6.16308563e-05, 6.16427190e-05, 6.18193682e-05, 6.19502486e-05,\n",
       "       6.21210991e-05, 6.21531667e-05, 6.24277413e-05, 6.28371535e-05,\n",
       "       6.32492295e-05, 6.32930849e-05, 6.34421868e-05, 6.35374061e-05,\n",
       "       6.38446789e-05, 6.40443587e-05, 6.42555290e-05, 6.49387093e-05,\n",
       "       6.49707274e-05, 6.54454054e-05, 6.69097317e-05, 6.99652266e-05,\n",
       "       7.00855034e-05, 8.38564645e-05, 8.97387735e-05, 9.73607164e-05,\n",
       "       9.91427391e-05, 1.01490796e-04, 1.14429776e-04, 1.15272216e-04,\n",
       "       1.18411390e-04]))\n",
       "           fun: 5.776866261175684e-05\n",
       "       message: 'Optimization terminated successfully.'\n",
       "          nfev: 2562\n",
       "           nit: 1735\n",
       "        status: 0\n",
       "       success: True\n",
       "             x: array([ 2.99999977, -2.49999999, -3.51666017, -1.69005001, -1.43438084,\n",
       "       -2.18568735, -0.19733798, -1.4348629 , -2.41610327, -1.8496649 ,\n",
       "       -3.15087023, -4.33698125, -2.16436412, -2.71131712, -2.4815731 ,\n",
       "       -1.34555452, -2.88410284, -2.75668025, -0.19816526, -1.9954906 ,\n",
       "        0.86683377,  1.03244211,  1.32241528,  1.04638633,  1.03442267,\n",
       "        0.69552051,  0.8175511 ,  1.09013184,  1.14122378,  0.94913582,\n",
       "        1.33938462,  0.94236117,  0.90386364,  1.63672082,  0.9589025 ,\n",
       "        0.66921351,  1.27428276,  1.06804677,  1.01105254,  1.25850724])"
      ]
     },
     "execution_count": 141,
     "metadata": {},
     "output_type": "execute_result"
    }
   ],
   "source": [
    "res_error"
   ]
  },
  {
   "cell_type": "code",
   "execution_count": null,
   "metadata": {},
   "outputs": [],
   "source": [
    "# к сожалению не поняла, как найти найденные оптимизатором значени a и b (параметры)"
   ]
  },
  {
   "cell_type": "markdown",
   "metadata": {},
   "source": [
    "### Задание 4"
   ]
  },
  {
   "cell_type": "markdown",
   "metadata": {},
   "source": [
    "Создайте собственную дискретную случайную величину с 20 значениями. Сгенерируйте 1000 выборок размера 50. Посчитайте среднее для каждой выборки. Постройте гистограмму распределения средних."
   ]
  },
  {
   "cell_type": "code",
   "execution_count": 35,
   "metadata": {},
   "outputs": [],
   "source": [
    "# создадим дискретную случайную велечину рэндомно\n",
    "elements = np.random.random(20)"
   ]
  },
  {
   "cell_type": "code",
   "execution_count": 37,
   "metadata": {},
   "outputs": [],
   "source": [
    "# создадим рэндомно плотности вероятностей значений с.в.\n",
    "list_of_random_floats = np.random.random(20) \n",
    "probabilities = list_of_random_floats / list_of_random_floats.sum()"
   ]
  },
  {
   "cell_type": "code",
   "execution_count": 38,
   "metadata": {},
   "outputs": [
    {
     "data": {
      "text/plain": [
       "1.0"
      ]
     },
     "execution_count": 38,
     "metadata": {},
     "output_type": "execute_result"
    }
   ],
   "source": [
    "sum(probabilities)"
   ]
  },
  {
   "cell_type": "code",
   "execution_count": 39,
   "metadata": {},
   "outputs": [
    {
     "data": {
      "text/plain": [
       "(array([0.40086821, 0.31398391, 0.32985631, 0.07886394, 0.38597968,\n",
       "        0.14138947, 0.42993347, 0.35035734, 0.89390487, 0.29226313,\n",
       "        0.08088234, 0.0987532 , 0.93867541, 0.15073502, 0.88766538,\n",
       "        0.73209997, 0.33938062, 0.08438013, 0.66313335, 0.18730013]),\n",
       " array([0.04963899, 0.05887548, 0.07349523, 0.03682579, 0.0566693 ,\n",
       "        0.03418932, 0.06348284, 0.05495484, 0.02471468, 0.06085307,\n",
       "        0.07438556, 0.05776901, 0.03066203, 0.00676592, 0.0583641 ,\n",
       "        0.03745197, 0.05470363, 0.06252484, 0.06217236, 0.04150105]))"
      ]
     },
     "execution_count": 39,
     "metadata": {},
     "output_type": "execute_result"
    }
   ],
   "source": [
    "elements, probabilities"
   ]
  },
  {
   "cell_type": "code",
   "execution_count": 40,
   "metadata": {},
   "outputs": [],
   "source": [
    "#параметры запуска: размеры выборок и количество повторов генерации\n",
    "n1 = 50\n",
    "samples_count = 1000\n",
    "\n",
    "#массив для сохранения средних по выборкам\n",
    "a1 = np.array([])\n",
    "\n",
    "for number in range(samples_count):\n",
    "    # на каждом цикле генерируем выборки размера n1\n",
    "    sample1 = np.random.choice(elements, n1, p=probabilities)\n",
    "    # считаем среднее по каждой выборке и добавляем в массив средних\n",
    "    a1 = np.append(a1, sample1.mean())"
   ]
  },
  {
   "cell_type": "code",
   "execution_count": 48,
   "metadata": {},
   "outputs": [
    {
     "data": {
      "text/plain": [
       "1000"
      ]
     },
     "execution_count": 48,
     "metadata": {},
     "output_type": "execute_result"
    }
   ],
   "source": [
    "len(a1)"
   ]
  },
  {
   "cell_type": "code",
   "execution_count": 43,
   "metadata": {},
   "outputs": [
    {
     "data": {
      "text/plain": [
       "Text(0.5, 0, '$x$')"
      ]
     },
     "execution_count": 43,
     "metadata": {},
     "output_type": "execute_result"
    },
    {
     "data": {
      "image/png": "[encoded data removed]",
      "text/plain": [
       "<Figure size 432x288 with 1 Axes>"
      ]
     },
     "metadata": {
      "needs_background": "light"
     },
     "output_type": "display_data"
    }
   ],
   "source": [
    "#строим график\n",
    "label_1 = 'sample of ' + str(n1) + ' histogram'\n",
    "plt.hist(a1, density=True, label=label_1)\n",
    "\n",
    "plt.legend()\n",
    "plt.ylabel('samples means')\n",
    "plt.xlabel('$x$')"
   ]
  },
  {
   "cell_type": "markdown",
   "metadata": {},
   "source": [
    "При большом количестве повторений эксперимента распределение средних значений выборок является нормальным."
   ]
  },
  {
   "cell_type": "markdown",
   "metadata": {},
   "source": [
    "### Задание 5"
   ]
  },
  {
   "cell_type": "markdown",
   "metadata": {},
   "source": [
    "Найдите собственные значения и собственные вектора матрицы (на python и на бумаге)\n",
    "\n",
    "[[1, 4],\n",
    "\n",
    " [1, 1]]"
   ]
  },
  {
   "cell_type": "code",
   "execution_count": 14,
   "metadata": {},
   "outputs": [],
   "source": [
    "a = np.array([[1, 4], [1, 1]])\n",
    "w, v = np.linalg.eig(a)"
   ]
  },
  {
   "cell_type": "code",
   "execution_count": 16,
   "metadata": {},
   "outputs": [
    {
     "name": "stdout",
     "output_type": "stream",
     "text": [
      "Собственное значение 3.0000000000000004\n",
      "соответствующий ему собственный вектор [ 0.89442719 -0.89442719]\n",
      "Собственное значение -0.9999999999999996\n",
      "соответствующий ему собственный вектор [0.4472136 0.4472136]\n"
     ]
    }
   ],
   "source": [
    "for i in range(len(w)):\n",
    "    print(\"Собственное значение \" + str(w[i]))\n",
    "    print(\"соответствующий ему собственный вектор \" + str(v[i]))"
   ]
  }
 ],
 "metadata": {
  "kernelspec": {
   "display_name": "Python 3",
   "language": "python",
   "name": "python3"
  },
  "language_info": {
   "codemirror_mode": {
    "name": "ipython",
    "version": 3
   },
   "file_extension": ".py",
   "mimetype": "text/x-python",
   "name": "python",
   "nbconvert_exporter": "python",
   "pygments_lexer": "ipython3",
   "version": "3.7.3"
  }
 },
 "nbformat": 4,
 "nbformat_minor": 2
}
